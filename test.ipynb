{
 "cells": [
  {
   "cell_type": "code",
   "execution_count": 1,
   "id": "238675e8-e1ba-48be-a404-91fc11ee68c3",
   "metadata": {},
   "outputs": [],
   "source": [
    "# 导入自定义包load_image\n",
    "from load_image import load_image_people\n",
    "import numpy as np\n",
    "import matplotlib.pylab as plt"
   ]
  },
  {
   "cell_type": "code",
   "execution_count": 2,
   "id": "ba0719dd-7938-4506-923c-ea9c1b55d314",
   "metadata": {},
   "outputs": [],
   "source": [
    "image_path = \".\\\\lfw_home\\\\lfw_funneled\"\n",
    "data, label, name_dict = load_image_people(image_path)"
   ]
  },
  {
   "cell_type": "code",
   "execution_count": 3,
   "id": "b689f618-c29c-4e0b-a03f-c78c782e5b49",
   "metadata": {},
   "outputs": [],
   "source": [
    "n_classes = len(name_dict)\n",
    "target_names = name_dict.values()"
   ]
  },
  {
   "cell_type": "code",
   "execution_count": 4,
   "id": "55105400-5d92-40a6-843a-3ad8cfc27a00",
   "metadata": {},
   "outputs": [],
   "source": [
    "# 特征选择\n",
    "# F检验\n",
    "from sklearn.feature_selection import SelectKBest, chi2\n",
    "from sklearn.feature_selection import f_classif\n",
    "data_p = data\n",
    "data = SelectKBest(f_classif, k=7500).fit_transform(data_p, label)"
   ]
  },
  {
   "cell_type": "code",
   "execution_count": 5,
   "id": "a134fcd8-8e61-49c5-af65-6c6b64d2d4cc",
   "metadata": {},
   "outputs": [],
   "source": [
    "from sklearn.model_selection import train_test_split\n",
    "from sklearn.model_selection import GridSearchCV\n",
    "from sklearn.metrics import classification_report\n",
    "from sklearn.metrics import confusion_matrix\n",
    "from sklearn.datasets import fetch_lfw_people\n",
    "from sklearn.svm import SVC\n",
    "from sklearn.model_selection import cross_val_score"
   ]
  },
  {
   "cell_type": "code",
   "execution_count": 6,
   "id": "d6e0ed84-ad22-4274-969a-6792d0973a55",
   "metadata": {},
   "outputs": [],
   "source": [
    "# 数据分离\n",
    "X_train, X_test, y_train, y_test = train_test_split(\n",
    "    data, label, test_size=0.20, random_state=42)\n",
    "# 降维维数3\n",
    "n_components = 175"
   ]
  },
  {
   "cell_type": "code",
   "execution_count": 7,
   "id": "fd23e980-04ba-4baa-898f-0129c65f86f8",
   "metadata": {},
   "outputs": [],
   "source": [
    "# 定义SVM训练器\n",
    "param_grid = {'C': [1e3, 5e3, 1e4, 5e4, 1e5],\n",
    "      'gamma': [0.0001, 0.0005, 0.001, 0.005, 0.01, 0.1], }\n",
    "clf = GridSearchCV(SVC(kernel='rbf', class_weight='balanced'), param_grid)"
   ]
  },
  {
   "cell_type": "code",
   "execution_count": 8,
   "id": "1025c303-efbe-4206-93e7-b8ef801f10fd",
   "metadata": {},
   "outputs": [
    {
     "name": "stdout",
     "output_type": "stream",
     "text": [
      "0.7235772357723578\n"
     ]
    }
   ],
   "source": [
    "# KPCA\n",
    "from sklearn.decomposition import KernelPCA\n",
    "from sklearn.metrics import accuracy_score\n",
    "kpca = KernelPCA(n_components=n_components,kernel='cosine').fit(X_train)\n",
    "X_train_kpca = kpca.transform(X_train)\n",
    "X_test_kpca = kpca.transform(X_test)\n",
    "\n",
    "clf.fit(X_train_kpca, y_train)\n",
    "y_score_kpca = clf.decision_function(X_test_kpca)\n",
    "y_pred = clf.predict(X_test_kpca)\n",
    "# 预测\n",
    "# print(classification_report(y_test, y_pred, target_names=target_names))\n",
    "y_accuracy = accuracy_score(y_test, y_pred)\n",
    "print(y_accuracy)"
   ]
  },
  {
   "cell_type": "code",
   "execution_count": null,
   "id": "605d0577-1641-4301-8871-10bbbd3aeed3",
   "metadata": {},
   "outputs": [],
   "source": []
  }
 ],
 "metadata": {
  "kernelspec": {
   "display_name": "AI-learn",
   "language": "python",
   "name": "ai-learn"
  },
  "language_info": {
   "codemirror_mode": {
    "name": "ipython",
    "version": 3
   },
   "file_extension": ".py",
   "mimetype": "text/x-python",
   "name": "python",
   "nbconvert_exporter": "python",
   "pygments_lexer": "ipython3",
   "version": "3.12.2"
  }
 },
 "nbformat": 4,
 "nbformat_minor": 5
}
