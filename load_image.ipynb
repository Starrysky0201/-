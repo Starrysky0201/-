{
 "cells": [
  {
   "cell_type": "markdown",
   "id": "45688bde-6206-494c-b260-044dc5b051d7",
   "metadata": {},
   "source": [
    "# 人脸图像预处理\n",
    "> 采用LFW人脸数据集，其中的数据是已经经过人脸对齐的\n",
    "1. 导入人脸数据，并转化为灰度图像，减少维度，是模型更好的训练\n",
    "2. 图片裁切，防止背景干扰，数据集中的人脸是对齐的，所以不需要我们去检测人脸和对齐\n",
    "3. 对人脸图像进行直方图均衡化，减少光线等的影响\n",
    "4. 数据归一化\n",
    "5. 图像滤波"
   ]
  },
  {
   "cell_type": "code",
   "execution_count": 1,
   "id": "d2234a23-6530-4a6e-a038-bc08ee24f1b5",
   "metadata": {},
   "outputs": [],
   "source": [
    "# 导包\n",
    "import os\n",
    "import cv2\n",
    "import numpy as np"
   ]
  },
  {
   "cell_type": "code",
   "execution_count": 2,
   "id": "8a5c7858-2540-4958-ba5b-43f91652087c",
   "metadata": {},
   "outputs": [],
   "source": [
    "def load_image_people(img_path):\n",
    "    path_list = map(lambda x: '\\\\'.join([img_path, x]), os.listdir(img_path))\n",
    "    name_dict = {}\n",
    "    data, label = [], []\n",
    "    clahe = cv2.createCLAHE(clipLimit=2.0, tileGridSize=(4, 4))\n",
    "    idx = 0\n",
    "    for item in path_list:\n",
    "        if os.path.isdir(item):\n",
    "            dirlist = os.listdir(item)\n",
    "            if not (30 <= len(dirlist) <= 100):\n",
    "                continue\n",
    "            for imgpath in dirlist:\n",
    "                # 图片导入，导入为灰度图\n",
    "                im = cv2.imread(item + '\\\\' + imgpath)\n",
    "                imGray = cv2.cvtColor(im, cv2.COLOR_BGR2GRAY)\n",
    "                # 自适应直方图均衡化\n",
    "                imGray = clahe.apply(imGray)\n",
    "                # 图像中心裁切\n",
    "                imGray = imGray[75: 75+110, 75: 75+110]\n",
    "                # 将人脸图像转换为统一规格\n",
    "                imGray = cv2.resize(imGray,(90,90))\n",
    "                imGray = np.array(imGray)\n",
    "                # 归一化处理\n",
    "                imGray = imGray/255.0\n",
    "                # 高斯滤波\n",
    "                imGray = cv2.GaussianBlur(imGray,(3,3),0)\n",
    "                data.append(imGray)\n",
    "                label.append(idx)\n",
    "            name_dict[idx] = item.split('\\\\')[-1]\n",
    "            idx+=1\n",
    "    data = np.array(data)\n",
    "    X = data.reshape(len(data), -1)\n",
    "    return X, label, name_dict"
   ]
  }
 ],
 "metadata": {
  "kernelspec": {
   "display_name": "AI-learn",
   "language": "python",
   "name": "ai-learn"
  },
  "language_info": {
   "codemirror_mode": {
    "name": "ipython",
    "version": 3
   },
   "file_extension": ".py",
   "mimetype": "text/x-python",
   "name": "python",
   "nbconvert_exporter": "python",
   "pygments_lexer": "ipython3",
   "version": "3.12.2"
  }
 },
 "nbformat": 4,
 "nbformat_minor": 5
}
